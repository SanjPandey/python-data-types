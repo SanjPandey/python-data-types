{
 "cells": [
  {
   "cell_type": "code",
   "execution_count": 1,
   "id": "6deae163",
   "metadata": {},
   "outputs": [
    {
     "name": "stdout",
     "output_type": "stream",
     "text": [
      "welcome to todays class\n"
     ]
    }
   ],
   "source": [
    "print(\"welcome to todays class\")"
   ]
  },
  {
   "cell_type": "code",
   "execution_count": 2,
   "id": "b197a64e",
   "metadata": {},
   "outputs": [],
   "source": [
    "a=\"welcome to todays class\""
   ]
  },
  {
   "cell_type": "code",
   "execution_count": 4,
   "id": "43b9a246",
   "metadata": {},
   "outputs": [
    {
     "name": "stdout",
     "output_type": "stream",
     "text": [
      "welcome to todays class\n"
     ]
    }
   ],
   "source": [
    "print (a)"
   ]
  },
  {
   "cell_type": "code",
   "execution_count": 5,
   "id": "7f5d69aa",
   "metadata": {},
   "outputs": [],
   "source": [
    "# variable name should not start with number"
   ]
  },
  {
   "cell_type": "code",
   "execution_count": 6,
   "id": "6fdb06f1",
   "metadata": {},
   "outputs": [],
   "source": [
    "a1=\"test\""
   ]
  },
  {
   "cell_type": "code",
   "execution_count": 7,
   "id": "fe077b00",
   "metadata": {},
   "outputs": [
    {
     "ename": "SyntaxError",
     "evalue": "invalid decimal literal (1662716416.py, line 1)",
     "output_type": "error",
     "traceback": [
      "\u001b[1;36m  Cell \u001b[1;32mIn[7], line 1\u001b[1;36m\u001b[0m\n\u001b[1;33m    1a=\"test\"\u001b[0m\n\u001b[1;37m    ^\u001b[0m\n\u001b[1;31mSyntaxError\u001b[0m\u001b[1;31m:\u001b[0m invalid decimal literal\n"
     ]
    }
   ],
   "source": [
    "1a=\"test\""
   ]
  },
  {
   "cell_type": "code",
   "execution_count": 8,
   "id": "66346655",
   "metadata": {},
   "outputs": [],
   "source": [
    "# variable name should not start with spacial character"
   ]
  },
  {
   "cell_type": "code",
   "execution_count": 9,
   "id": "f416bad9",
   "metadata": {},
   "outputs": [
    {
     "data": {
      "text/plain": [
       "'welcome to todays class'"
      ]
     },
     "execution_count": 9,
     "metadata": {},
     "output_type": "execute_result"
    }
   ],
   "source": [
    "a#=\"test\""
   ]
  },
  {
   "cell_type": "code",
   "execution_count": 10,
   "id": "9d551cb7",
   "metadata": {},
   "outputs": [
    {
     "ename": "SyntaxError",
     "evalue": "invalid syntax (1139022390.py, line 1)",
     "output_type": "error",
     "traceback": [
      "\u001b[1;36m  Cell \u001b[1;32mIn[10], line 1\u001b[1;36m\u001b[0m\n\u001b[1;33m    a$=\"test\"\u001b[0m\n\u001b[1;37m     ^\u001b[0m\n\u001b[1;31mSyntaxError\u001b[0m\u001b[1;31m:\u001b[0m invalid syntax\n"
     ]
    }
   ],
   "source": [
    "a$=\"test\""
   ]
  },
  {
   "cell_type": "code",
   "execution_count": 11,
   "id": "84511511",
   "metadata": {},
   "outputs": [],
   "source": [
    "a_=\"test\""
   ]
  },
  {
   "cell_type": "code",
   "execution_count": 12,
   "id": "6e355745",
   "metadata": {},
   "outputs": [
    {
     "name": "stdout",
     "output_type": "stream",
     "text": [
      "test\n"
     ]
    }
   ],
   "source": [
    "print(a_)"
   ]
  },
  {
   "cell_type": "code",
   "execution_count": 13,
   "id": "f78f65c2",
   "metadata": {},
   "outputs": [],
   "source": [
    "# data types\n",
    "#string"
   ]
  },
  {
   "cell_type": "code",
   "execution_count": 14,
   "id": "e2e9c235",
   "metadata": {},
   "outputs": [],
   "source": [
    "a=\"Sanj\""
   ]
  },
  {
   "cell_type": "code",
   "execution_count": 16,
   "id": "7671cc92",
   "metadata": {},
   "outputs": [
    {
     "name": "stdout",
     "output_type": "stream",
     "text": [
      "Sanj\n",
      "<class 'str'>\n",
      "True\n"
     ]
    }
   ],
   "source": [
    "print(a)\n",
    "print(type(a))\n",
    "print(isinstance(a,str))"
   ]
  },
  {
   "cell_type": "code",
   "execution_count": 17,
   "id": "2e402fc8",
   "metadata": {},
   "outputs": [],
   "source": [
    "#isinstance means we are asking the python to this is a string or not"
   ]
  },
  {
   "cell_type": "code",
   "execution_count": 18,
   "id": "9febead8",
   "metadata": {},
   "outputs": [
    {
     "name": "stdout",
     "output_type": "stream",
     "text": [
      "4\n",
      "S\n",
      "n\n",
      "['S', 'a', 'j', 'n']\n"
     ]
    }
   ],
   "source": [
    "print(len(a))\n",
    "print(min(a))\n",
    "print(max(a))\n",
    "print(sorted(a))"
   ]
  },
  {
   "cell_type": "code",
   "execution_count": 19,
   "id": "0ce97889",
   "metadata": {},
   "outputs": [
    {
     "name": "stdout",
     "output_type": "stream",
     "text": [
      "sanj\n",
      "SANJ\n",
      "sANJ\n"
     ]
    }
   ],
   "source": [
    "print(a.lower())\n",
    "print(a.upper())\n",
    "print(a.swapcase())"
   ]
  },
  {
   "cell_type": "code",
   "execution_count": 20,
   "id": "89e764c3",
   "metadata": {},
   "outputs": [
    {
     "name": "stdout",
     "output_type": "stream",
     "text": [
      "True\n"
     ]
    }
   ],
   "source": [
    "a=\"welcome\"\n",
    "print(a.islower())"
   ]
  },
  {
   "cell_type": "code",
   "execution_count": 22,
   "id": "a8278387",
   "metadata": {},
   "outputs": [
    {
     "name": "stdout",
     "output_type": "stream",
     "text": [
      "True\n"
     ]
    }
   ],
   "source": [
    "a=\"WELCOME\"\n",
    "print(a.isupper())"
   ]
  },
  {
   "cell_type": "code",
   "execution_count": 23,
   "id": "12064314",
   "metadata": {},
   "outputs": [
    {
     "name": "stdout",
     "output_type": "stream",
     "text": [
      "True\n"
     ]
    }
   ],
   "source": [
    "a=\"123\"\n",
    "print(a.isdigit())"
   ]
  },
  {
   "cell_type": "code",
   "execution_count": 24,
   "id": "0c730650",
   "metadata": {},
   "outputs": [
    {
     "name": "stdout",
     "output_type": "stream",
     "text": [
      "True\n"
     ]
    }
   ],
   "source": [
    "a=\"sachin\"\n",
    "print(a.isalpha())"
   ]
  },
  {
   "cell_type": "code",
   "execution_count": 25,
   "id": "8ce76c7c",
   "metadata": {},
   "outputs": [
    {
     "name": "stdout",
     "output_type": "stream",
     "text": [
      "True\n"
     ]
    }
   ],
   "source": [
    "a=\"sachin123\"\n",
    "print(a.isalnum())"
   ]
  },
  {
   "cell_type": "code",
   "execution_count": 26,
   "id": "d8f3423a",
   "metadata": {},
   "outputs": [],
   "source": [
    "# isdigit is functionality of string"
   ]
  },
  {
   "cell_type": "code",
   "execution_count": 28,
   "id": "6f85e8b6",
   "metadata": {},
   "outputs": [
    {
     "name": "stdout",
     "output_type": "stream",
     "text": [
      "Welcome  sanj\n",
      "Welcome  s$nj\n"
     ]
    }
   ],
   "source": [
    "a=\"Welcome  sanj\"\n",
    "print(a.replace(\"a,\",\"$\"))\n",
    "print(a.replace(\"a\",\"$\",1))"
   ]
  },
  {
   "cell_type": "code",
   "execution_count": 29,
   "id": "85289496",
   "metadata": {},
   "outputs": [
    {
     "name": "stdout",
     "output_type": "stream",
     "text": [
      "False\n",
      "True\n"
     ]
    }
   ],
   "source": [
    "print(a.startswith(\"s\"))\n",
    "print(a.endswith(\"j\"))"
   ]
  },
  {
   "cell_type": "code",
   "execution_count": 30,
   "id": "1f3d08b0",
   "metadata": {},
   "outputs": [
    {
     "name": "stdout",
     "output_type": "stream",
     "text": [
      "1\n"
     ]
    }
   ],
   "source": [
    "print(a.count(\"a\"))"
   ]
  },
  {
   "cell_type": "code",
   "execution_count": 31,
   "id": "99ea642e",
   "metadata": {},
   "outputs": [
    {
     "name": "stdout",
     "output_type": "stream",
     "text": [
      "['Welcome  s', 'nj']\n"
     ]
    }
   ],
   "source": [
    "print(a.split(\"a\"))"
   ]
  },
  {
   "cell_type": "code",
   "execution_count": 32,
   "id": "fa426e86",
   "metadata": {},
   "outputs": [
    {
     "name": "stdout",
     "output_type": "stream",
     "text": [
      "['Welcome  s', 'nj']\n"
     ]
    }
   ],
   "source": [
    "print(a.split(\"a\",1))"
   ]
  },
  {
   "cell_type": "code",
   "execution_count": 33,
   "id": "7898b96e",
   "metadata": {},
   "outputs": [
    {
     "name": "stdout",
     "output_type": "stream",
     "text": [
      "test\n"
     ]
    },
    {
     "data": {
      "text/plain": [
       "'test'"
      ]
     },
     "execution_count": 33,
     "metadata": {},
     "output_type": "execute_result"
    }
   ],
   "source": [
    "input() # take the input from the user"
   ]
  },
  {
   "cell_type": "code",
   "execution_count": 34,
   "id": "5f75d17f",
   "metadata": {},
   "outputs": [
    {
     "name": "stdout",
     "output_type": "stream",
     "text": [
      "enter somethinghi\n"
     ]
    }
   ],
   "source": [
    "a=input(\"enter something\")"
   ]
  },
  {
   "cell_type": "code",
   "execution_count": 35,
   "id": "4f3eda44",
   "metadata": {},
   "outputs": [
    {
     "name": "stdout",
     "output_type": "stream",
     "text": [
      "hi\n"
     ]
    }
   ],
   "source": [
    "print(a)"
   ]
  },
  {
   "cell_type": "code",
   "execution_count": null,
   "id": "ceecc524",
   "metadata": {},
   "outputs": [],
   "source": [
    "# 1\n",
    "#a=\"welcome todays class\"\n",
    "2) get"
   ]
  }
 ],
 "metadata": {
  "kernelspec": {
   "display_name": "Python 3 (ipykernel)",
   "language": "python",
   "name": "python3"
  },
  "language_info": {
   "codemirror_mode": {
    "name": "ipython",
    "version": 3
   },
   "file_extension": ".py",
   "mimetype": "text/x-python",
   "name": "python",
   "nbconvert_exporter": "python",
   "pygments_lexer": "ipython3",
   "version": "3.11.5"
  }
 },
 "nbformat": 4,
 "nbformat_minor": 5
}
